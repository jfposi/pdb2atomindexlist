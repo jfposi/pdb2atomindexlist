{
 "cells": [
  {
   "cell_type": "code",
   "execution_count": 10,
   "metadata": {},
   "outputs": [
    {
     "name": "stdout",
     "output_type": "stream",
     "text": [
      "Which ATOM do you want to extract?:O\n",
      "ATOM selected: O\n",
      "['23', '30', '53', '73', '82', '87', '107', '127', '151', '160', '161', '163', '175', '182', '194', '195', '197', '221', '244', '268', '277', '278', '280', '292', '312', '325', '328', '335', '347', '352', '369', '378', '379', '381', '405', '414', '415', '417', '426', '427', '429', '441', '446', '458', '482', '506', '526', '538', '543', '555', '556', '558', '575', '598', '607', '612', '636', '649', '652', '659', '682', '696', '705', '706', '708', '720', '729', '730', '732', '756', '776', '785', '790', '813', '825', '830', '853', '865', '874', '875', '877', '884', '908', '920', '933', '936', '956', '969', '972', '979', '988', '989', '991', '998', '1021', '1029', '1032', '1044', '1049', '1061', '1062', '1064', '1076', '1100', '1112', '1113', '1115', '1139', '1162', '1185', '1205', '1217', '1237', '1244', '1253', '1258', '1281', '1289', '1292', '1299', '1322', '1334', '1342', '1345', '1365', '1374', '1375', '1377', '1386', '1387', '1389', '1401', '1406', '1426', '1450', '1463', '1466', '1478', '1491', '1494', '1508', '1520', '1533', '1536', '1548', '1556', '1559', '1571', '1576', '1596', '1610', '1617', '1630', '1633', '1653', '1677', '1685', '1688', '1695', '1704', '1705', '1707', '1720', '1723', '1746', '1754', '1757', '1769', '1792', '1800', '1803', '1827', '1839', '1844', '1864', '1878', '1885', '1892', '1901', '1906', '1918', '1927', '1932', '1955', '1969', '1976', '1985', '1990', '2014', '2037', '2057', '2069', '2070', '2072', '2084', '2093', '2098', '2122', '2136', '2155', '2178', '2202', '2210', '2213', '2227', '2236', '2237', '2239', '2263', '2286', '2300', '2307', '2321', '2328', '2340', '2345', '2365', '2388', '2412', '2435', '2449', '2461', '2462', '2464', '2476', '2477', '2479', '2502', '2514', '2515', '2517', '2534', '2551', '2568', '2585', '2602', '2619', '2620']\n",
      "238\n"
     ]
    }
   ],
   "source": [
    "#pdb2atomindexlist script\n",
    "#Specifying a .pdb protein database file and path\n",
    "#Write the Atom you want when asked (e.g.: O)\n",
    "#Get a printed List of atom indexes and also a \n",
    "#plain text .txt file with all of them.\n",
    "\n",
    "\n",
    "\n",
    "\n",
    "import os\n",
    "\n",
    "#1\n",
    "#Use one of the options to specify the folder of the files/proyect folder\n",
    "#The first one refers to the home folder of LINUX.\n",
    "#home=os.environ['HOME']\n",
    "home='G:/MD/VMD'\n",
    "\n",
    "#2\n",
    "#specify the pdb file to read and the txt file to write\n",
    "FILETOREAD=\"protein_ions.pdb\"\n",
    "FILENAMETOWRITE=\"atomlist.txt\"\n",
    "\n",
    "#3\n",
    "#Use this folder variable to build your own path.\n",
    "folder=home + '/KBP_K_1M_pullslow/md/'\n",
    "\n",
    "\n",
    "\n",
    "pdb=tuple(open(folder+FILETOREAD))\n",
    "atom_start=0\n",
    "atom_end=0\n",
    "linecontent=[]\n",
    "global atom_coordinates\n",
    "linestoExport=[]\n",
    "\n",
    "atom_counter=0\n",
    "atom_index_matrix=[]\n",
    "\n",
    "atom_selected=raw_input(\"Which ATOM do you want to extract?:\")\n",
    "\n",
    "print 'ATOM selected: ' + str(atom_selected)\n",
    "\n",
    "for i in range(0,len(pdb)):\n",
    "    linecontent=pdb[i]\n",
    "    if linecontent[:4]==\"ATOM\":\n",
    "        if atom_start==0:\n",
    "            atom_start=i+1\n",
    "        atom_end=i+1\n",
    "        linecontent=[]\n",
    "        linecontent=pdb[i].split()\n",
    "        if atom_selected in linecontent[2]:\n",
    "            atom_index_matrix.append(linecontent[1])\n",
    "            atom_counter+=1\n",
    "            #print i, pdb[i]\n",
    "            # Get the bounds +2 length\n",
    "            \n",
    "    if linecontent[:3]==\"TER\":\n",
    "        break\n",
    "\n",
    "print atom_index_matrix\n",
    "print atom_counter\n",
    "\n",
    "atomfile=open(folder+FILENAMETOWRITE,\"w\")\n",
    "\n",
    "for i in range(0,len(atom_index_matrix)):\n",
    "        atomfile.write(atom_index_matrix[i]+\" \")\n",
    "\n",
    "atomfile.write(\"\\n\"+str(atom_counter))\n",
    "\n",
    "atomfile.close()\n"
   ]
  },
  {
   "cell_type": "code",
   "execution_count": null,
   "metadata": {},
   "outputs": [],
   "source": []
  },
  {
   "cell_type": "code",
   "execution_count": null,
   "metadata": {},
   "outputs": [],
   "source": []
  },
  {
   "cell_type": "code",
   "execution_count": null,
   "metadata": {},
   "outputs": [],
   "source": []
  },
  {
   "cell_type": "code",
   "execution_count": null,
   "metadata": {},
   "outputs": [],
   "source": []
  }
 ],
 "metadata": {
  "kernelspec": {
   "display_name": "Python 2",
   "language": "python",
   "name": "python2"
  },
  "language_info": {
   "codemirror_mode": {
    "name": "ipython",
    "version": 2
   },
   "file_extension": ".py",
   "mimetype": "text/x-python",
   "name": "python",
   "nbconvert_exporter": "python",
   "pygments_lexer": "ipython2",
   "version": "2.7.15"
  }
 },
 "nbformat": 4,
 "nbformat_minor": 2
}
